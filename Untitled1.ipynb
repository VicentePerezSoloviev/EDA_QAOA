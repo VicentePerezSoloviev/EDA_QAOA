{
 "cells": [
  {
   "cell_type": "code",
   "execution_count": 7,
   "metadata": {},
   "outputs": [],
   "source": [
    "import pickle\n",
    "with open('max_cut_10.pkl', 'rb') as file:\n",
    "    max_cut = pickle.load(file)\n",
    "\n",
    "qubit_op, _ = max_cut.get_operator()"
   ]
  },
  {
   "cell_type": "code",
   "execution_count": 8,
   "metadata": {},
   "outputs": [
    {
     "data": {
      "text/plain": [
       "PauliSumOp(SparsePauliOp(['IIIIIIIIZZ', 'IIIIIIIZIZ', 'IIIIIZIZII', 'IIIIZIIIIZ', 'IIIIZIIIZI', 'IIIIZZIIII', 'IIIZIIZIII', 'IIZIIZIIII', 'ZIIIIIIIIZ', 'ZIIIIIIIZI', 'ZIIIZIIIII', 'IIIIIIIIZZ', 'IIIIIIIZIZ', 'IIIIIIZIIZ', 'IIIIIZIIIZ', 'IIIIZIIIIZ', 'IIIZIIIIIZ', 'IIZIIIIIIZ', 'IZIIIIIIIZ', 'ZIIIIIIIIZ', 'IIIIIIIIZZ', 'IIIIIIIZZI', 'IIIIIIZIZI', 'IIIIIZIIZI', 'IIIIZIIIZI', 'IIIZIIIIZI', 'IIZIIIIIZI', 'IZIIIIIIZI', 'ZIIIIIIIZI', 'IIIIIIIZIZ', 'IIIIIIIZZI', 'IIIIIIZZII', 'IIIIIZIZII', 'IIIIZIIZII', 'IIIZIIIZII', 'IIZIIIIZII', 'IZIIIIIZII', 'ZIIIIIIZII', 'IIIIIIZIIZ', 'IIIIIIZIZI', 'IIIIIIZZII', 'IIIIIZZIII', 'IIIIZIZIII', 'IIIZIIZIII', 'IIZIIIZIII', 'IZIIIIZIII', 'ZIIIIIZIII', 'IIIIIZIIIZ', 'IIIIIZIIZI', 'IIIIIZIZII', 'IIIIIZZIII', 'IIIIZZIIII', 'IIIZIZIIII', 'IIZIIZIIII', 'IZIIIZIIII', 'ZIIIIZIIII', 'IIIIZIIIIZ', 'IIIIZIIIZI', 'IIIIZIIZII', 'IIIIZIZIII', 'IIIIZZIIII', 'IIIZZIIIII', 'IIZIZIIIII', 'IZIIZIIIII', 'ZIIIZIIIII', 'IIIZIIIIIZ', 'IIIZIIIIZI', 'IIIZIIIZII', 'IIIZIIZIII', 'IIIZIZIIII', 'IIIZZIIIII', 'IIZZIIIIII', 'IZIZIIIIII', 'ZIIZIIIIII', 'IIZIIIIIIZ', 'IIZIIIIIZI', 'IIZIIIIZII', 'IIZIIIZIII', 'IIZIIZIIII', 'IIZIZIIIII', 'IIZZIIIIII', 'IZZIIIIIII', 'ZIZIIIIIII', 'IZIIIIIIIZ', 'IZIIIIIIZI', 'IZIIIIIZII', 'IZIIIIZIII', 'IZIIIZIIII', 'IZIIZIIIII', 'IZIZIIIIII', 'IZZIIIIIII', 'ZZIIIIIIII', 'ZIIIIIIIIZ', 'ZIIIIIIIZI', 'ZIIIIIIZII', 'ZIIIIIZIII', 'ZIIIIZIIII', 'ZIIIZIIIII', 'ZIIZIIIIII', 'ZIZIIIIIII', 'ZZIIIIIIII'],\n",
       "              coeffs=[-0.5+0.j, -0.5+0.j, -0.5+0.j, -0.5+0.j, -0.5+0.j, -0.5+0.j, -0.5+0.j,\n",
       " -0.5+0.j, -0.5+0.j, -0.5+0.j, -0.5+0.j,  1. +0.j,  1. +0.j,  1. +0.j,\n",
       "  1. +0.j,  1. +0.j,  1. +0.j,  1. +0.j,  1. +0.j,  1. +0.j,  1. +0.j,\n",
       "  1. +0.j,  1. +0.j,  1. +0.j,  1. +0.j,  1. +0.j,  1. +0.j,  1. +0.j,\n",
       "  1. +0.j,  1. +0.j,  1. +0.j,  1. +0.j,  1. +0.j,  1. +0.j,  1. +0.j,\n",
       "  1. +0.j,  1. +0.j,  1. +0.j,  1. +0.j,  1. +0.j,  1. +0.j,  1. +0.j,\n",
       "  1. +0.j,  1. +0.j,  1. +0.j,  1. +0.j,  1. +0.j,  1. +0.j,  1. +0.j,\n",
       "  1. +0.j,  1. +0.j,  1. +0.j,  1. +0.j,  1. +0.j,  1. +0.j,  1. +0.j,\n",
       "  1. +0.j,  1. +0.j,  1. +0.j,  1. +0.j,  1. +0.j,  1. +0.j,  1. +0.j,\n",
       "  1. +0.j,  1. +0.j,  1. +0.j,  1. +0.j,  1. +0.j,  1. +0.j,  1. +0.j,\n",
       "  1. +0.j,  1. +0.j,  1. +0.j,  1. +0.j,  1. +0.j,  1. +0.j,  1. +0.j,\n",
       "  1. +0.j,  1. +0.j,  1. +0.j,  1. +0.j,  1. +0.j,  1. +0.j,  1. +0.j,\n",
       "  1. +0.j,  1. +0.j,  1. +0.j,  1. +0.j,  1. +0.j,  1. +0.j,  1. +0.j,\n",
       "  1. +0.j,  1. +0.j,  1. +0.j,  1. +0.j,  1. +0.j,  1. +0.j,  1. +0.j,\n",
       "  1. +0.j,  1. +0.j,  1. +0.j]), coeff=1.0)"
      ]
     },
     "execution_count": 8,
     "metadata": {},
     "output_type": "execute_result"
    }
   ],
   "source": [
    "qubit_op"
   ]
  },
  {
   "cell_type": "code",
   "execution_count": 13,
   "metadata": {},
   "outputs": [
    {
     "name": "stdout",
     "output_type": "stream",
     "text": [
      "File readout completed\n",
      "[[-33997.02976882      0.              0.         ...      0.\n",
      "       0.              0.        ]\n",
      " [     0.         -33998.38943879      0.         ...      0.\n",
      "       0.              0.        ]\n",
      " [     0.              0.         -33997.63589652 ...  68000.\n",
      "       0.              0.        ]\n",
      " ...\n",
      " [     0.              0.          68000.         ... -68000.\n",
      "       0.              0.        ]\n",
      " [     0.              0.              0.         ...      0.\n",
      "  -51000.          68000.        ]\n",
      " [     0.              0.              0.         ...      0.\n",
      "   68000.         -68000.        ]]\n"
     ]
    }
   ],
   "source": [
    "from scores import Scores\n",
    "from qubo_formulation import QUBO\n",
    "\n",
    "scores = Scores()\n",
    "weights = scores.load_data(\"cancer.txt\")\n",
    "qubo = QUBO(scores, m=2)\n",
    "Q = qubo.q(17000, 17000, 17000)\n",
    "print(qubo.Q)"
   ]
  },
  {
   "cell_type": "code",
   "execution_count": 14,
   "metadata": {},
   "outputs": [
    {
     "data": {
      "text/plain": [
       "Operator([[-33997.02976882+0.j,      0.        +0.j,      0.        +0.j,\n",
       "           ...,      0.        +0.j,      0.        +0.j,\n",
       "                0.        +0.j],\n",
       "          [     0.        +0.j, -33998.38943879+0.j,      0.        +0.j,\n",
       "           ...,      0.        +0.j,      0.        +0.j,\n",
       "                0.        +0.j],\n",
       "          [     0.        +0.j,      0.        +0.j, -33997.63589652+0.j,\n",
       "           ...,  68000.        +0.j,      0.        +0.j,\n",
       "                0.        +0.j],\n",
       "          ...,\n",
       "          [     0.        +0.j,      0.        +0.j,  68000.        +0.j,\n",
       "           ..., -68000.        +0.j,      0.        +0.j,\n",
       "                0.        +0.j],\n",
       "          [     0.        +0.j,      0.        +0.j,      0.        +0.j,\n",
       "           ...,      0.        +0.j, -51000.        +0.j,\n",
       "            68000.        +0.j],\n",
       "          [     0.        +0.j,      0.        +0.j,      0.        +0.j,\n",
       "           ...,      0.        +0.j,  68000.        +0.j,\n",
       "           -68000.        +0.j]],\n",
       "         input_dims=(40,), output_dims=(40,))"
      ]
     },
     "execution_count": 14,
     "metadata": {},
     "output_type": "execute_result"
    }
   ],
   "source": [
    "from qiskit.quantum_info.operators import Operator, Pauli\n",
    "\n",
    "Operator(qubo.Q)"
   ]
  }
 ],
 "metadata": {
  "kernelspec": {
   "display_name": "Python 3",
   "language": "python",
   "name": "python3"
  },
  "language_info": {
   "codemirror_mode": {
    "name": "ipython",
    "version": 3
   },
   "file_extension": ".py",
   "mimetype": "text/x-python",
   "name": "python",
   "nbconvert_exporter": "python",
   "pygments_lexer": "ipython3",
   "version": "3.8.5"
  }
 },
 "nbformat": 4,
 "nbformat_minor": 4
}
